{
 "cells": [
  {
   "cell_type": "code",
   "execution_count": 23,
   "metadata": {},
   "outputs": [
    {
     "name": "stdout",
     "output_type": "stream",
     "text": [
      "2.0987654321 2.0987654321\n"
     ]
    }
   ],
   "source": [
    "import numpy as np\n",
    "import matplotlib.pyplot as plt \n",
    "versicolor_petal_length = [1,5,4,6,5,4,4,4,2]\n",
    "\n",
    "# Manually calculating variance: \n",
    "differences = versicolor_petal_length - np.mean(versicolor_petal_length)\n",
    "diff_sq = list(map(lambda x: x**2, differences))\n",
    "variance_explicit = np.mean(diff_sq)\n",
    "\n",
    "# Compute the variance using NumPy: variance_np\n",
    "variance_np = np.var(versicolor_petal_length)\n",
    "\n",
    "print(variance_explicit, variance_np)\n"
   ]
  },
  {
   "cell_type": "code",
   "execution_count": 6,
   "metadata": {},
   "outputs": [
    {
     "name": "stdout",
     "output_type": "stream",
     "text": [
      "1.4487116456\n",
      "1.4487116456\n"
     ]
    }
   ],
   "source": [
    "# Standard deviation is the sqrt of the variance \n",
    "# Print the square root of the variance\n",
    "std = np.sqrt(variance_np)\n",
    "print(std)\n",
    "\n",
    "# Print the standard deviation\n",
    "print(np.std(versicolor_petal_length))"
   ]
  },
  {
   "cell_type": "code",
   "execution_count": 21,
   "metadata": {},
   "outputs": [
    {
     "name": "stdout",
     "output_type": "stream",
     "text": [
      "0.999861188379\n"
     ]
    }
   ],
   "source": [
    "# Covariance is a measure of correlation \n",
    "np.cov([1,2,4,8,16], [2,4,8,16, 16])\n",
    "# Outputs a covariance matrix of [[var_x, cov], [cov, var_y]]\n",
    "\n",
    "# Pearson correlation is covariance/(std_x * std_y)\n",
    "# It is a measure of the ratio of variability due to codependence compared to independent variability. \n",
    "def pearson_r(x, y):\n",
    "    corr_mat = np.corrcoef(x,y)\n",
    "    return corr_mat[0,1]\n",
    "\n",
    "r = pearson_r([1,2,4,8,16], [2,4,8,16, 31])\n",
    "# Print the result\n",
    "\n",
    "print(r)\n",
    "\n",
    "\n"
   ]
  },
  {
   "cell_type": "code",
   "execution_count": 30,
   "metadata": {},
   "outputs": [
    {
     "data": {
      "image/png": "[encoded data removed]",
      "text/plain": [
       "<matplotlib.figure.Figure at 0x1130a42e8>"
      ]
     },
     "metadata": {},
     "output_type": "display_data"
    }
   ],
   "source": [
    "# Bernoulli trial: Has outcome of either true or false \n",
    "np.random.seed(43)\n",
    "random_numbers = np.empty(500)\n",
    "for i in range(500):\n",
    "    random_numbers[i] = np.random.random()\n",
    "_ = plt.hist(random_numbers)\n",
    "plt.show()\n"
   ]
  },
  {
   "cell_type": "code",
   "execution_count": 34,
   "metadata": {},
   "outputs": [
    {
     "data": {
      "image/png": "[encoded data removed]",
      "text/plain": [
       "<matplotlib.figure.Figure at 0x113c4d908>"
      ]
     },
     "metadata": {},
     "output_type": "display_data"
    }
   ],
   "source": [
    "def perform_bernoulli_trials(n, p):\n",
    "    \"\"\"Perform n Bernoulli trials with success probability p\n",
    "    and return number of successes.\"\"\"\n",
    "    # Initialize number of successes: n_success\n",
    "    n_success = 0\n",
    "    # Perform trials\n",
    "    for i in range(n):\n",
    "        # Choose random number between zero and one: random_number\n",
    "        random_number = np.random.random()\n",
    "\n",
    "        # If less than p, it's a success so add one to n_success\n",
    "        if random_number < p:\n",
    "            n_success += 1\n",
    "\n",
    "    return n_success\n",
    "perform_bernoulli_trials(5, 0.2)\n",
    "# Seed random number generator\n",
    "np.random.seed(41412222)\n",
    "\n",
    "# Initialize the number of defaults: n_defaults\n",
    "n_defaults = np.empty(1000)\n",
    "\n",
    "# Compute the number of defaults\n",
    "for i in range(1000):\n",
    "    n_defaults[i] = perform_bernoulli_trials(100, 0.05)\n",
    "\n",
    "# Plot the histogram with default number of bins; label your axes\n",
    "_ = plt.hist(n_defaults, normed=True)\n",
    "_ = plt.xlabel('number of defaults out of 100 loans')\n",
    "_ = plt.ylabel('probability')\n",
    "\n",
    "# Show the plot\n",
    "\n",
    "plt.show()"
   ]
  },
  {
   "cell_type": "code",
   "execution_count": 35,
   "metadata": {
    "collapsed": true
   },
   "outputs": [],
   "source": [
    "# PMF = a probability mass function (pmf) is a function that gives the probability \n",
    "# that a discrete random variable is exactly equal to some value\n",
    "\n"
   ]
  },
  {
   "cell_type": "code",
   "execution_count": 40,
   "metadata": {},
   "outputs": [
    {
     "data": {
      "image/png": "[encoded data removed]",
      "text/plain": [
       "<matplotlib.figure.Figure at 0x112c0bf60>"
      ]
     },
     "metadata": {},
     "output_type": "display_data"
    }
   ],
   "source": [
    "# plt.clrf()\n",
    "samples = np.random.binomial(60, 0.1, size=10000)\n",
    "plt.plot(samples)\n",
    "plt.show()"
   ]
  },
  {
   "cell_type": "code",
   "execution_count": 41,
   "metadata": {
    "collapsed": true
   },
   "outputs": [],
   "source": [
    "# cumulative distribution function (CDF) of a real-valued random variable X, \n",
    "# or just distribution function of X, \n",
    "# is the probability that X will take a value less than or equal to x."
   ]
  },
  {
   "cell_type": "code",
   "execution_count": 3,
   "metadata": {},
   "outputs": [
    {
     "data": {
      "image/png": "[encoded data removed]",
      "text/plain": [
       "<matplotlib.figure.Figure at 0x10d8ce5f8>"
      ]
     },
     "metadata": {},
     "output_type": "display_data"
    }
   ],
   "source": [
    "# Poisson distribution is a random distribution. \n",
    "import numpy as np\n",
    "import matplotlib.pyplot as plt \n",
    "n_defaults = np.random.poisson(6, size=10000)\n",
    "# Compute bin edges: bins\n",
    "bins = np.arange(0, max(n_defaults) + 1.5) - 0.5\n",
    "# Generate histogram\n",
    "plt.hist(n_defaults, bins=bins)\n",
    "\n",
    "# Set margins\n",
    "plt.margins(0.02)\n",
    "\n",
    "# Label axes\n",
    "_ = plt.xlabel('number of defaults out of 100 loans')\n",
    "_ = plt.ylabel('PMF')\n",
    "\n",
    "# Show the plot\n",
    "plt.show()\n"
   ]
  },
  {
   "cell_type": "code",
   "execution_count": 6,
   "metadata": {},
   "outputs": [
    {
     "name": "stdout",
     "output_type": "stream",
     "text": [
      "Poisson:      10.0157 3.17780639907\n",
      "n = 20 Binom: 9.9741 2.2349561942\n",
      "n = 100 Binom: 9.9921 3.01788627851\n",
      "n = 1000 Binom: 9.9947 3.15978985219\n"
     ]
    }
   ],
   "source": [
    "# Draw 10,000 samples out of Poisson distribution: samples_poisson\n",
    "samples_poisson = np.random.poisson(10, size=10000)\n",
    "\n",
    "# Print the mean and standard deviation\n",
    "print('Poisson:     ', np.mean(samples_poisson),\n",
    "                       np.std(samples_poisson))\n",
    "\n",
    "# Specify values of n and p to consider for Binomial: n, p\n",
    "n = [20, 100, 1000]\n",
    "p = [0.5, 0.1, 0.01]\n",
    "\n",
    "\n",
    "# Draw 10,000 samples for each n,p pair: samples_binomial\n",
    "   \n",
    "for i in range(3):\n",
    "    samples_binomial =  np.random.binomial(n[i], p[i], 10000)\n",
    "\n",
    "    # Print results\n",
    "    print('n =', n[i], 'Binom:', np.mean(samples_binomial),\n",
    "                                 np.std(samples_binomial))\n",
    "# The means are all about the same,\n",
    "# The standard deviation of the Binomial distribution gets closer and closer to that of \n",
    "# the Poisson distribution as the probability p gets lower and lower.\n",
    "# When we have rare events (low p, high n), the Binomial distribution is Poisson. \n",
    "# This has a single parameter, the mean number of successes per time interval,"
   ]
  },
  {
   "cell_type": "code",
   "execution_count": 7,
   "metadata": {
    "collapsed": true
   },
   "outputs": [],
   "source": [
    "# Prob dist of continuous variables. \n",
    "# PDF (probability density function) is the continuous analogue to the PMF (porbability mass function)\n",
    "# PDF can be derived from CDF (cumulative distribution function)"
   ]
  },
  {
   "cell_type": "code",
   "execution_count": null,
   "metadata": {
    "collapsed": true
   },
   "outputs": [],
   "source": []
  }
 ],
 "metadata": {
  "kernelspec": {
   "display_name": "Python 3",
   "language": "python",
   "name": "python3"
  },
  "language_info": {
   "codemirror_mode": {
    "name": "ipython",
    "version": 3
   },
   "file_extension": ".py",
   "mimetype": "text/x-python",
   "name": "python",
   "nbconvert_exporter": "python",
   "pygments_lexer": "ipython3",
   "version": "3.6.2"
  }
 },
 "nbformat": 4,
 "nbformat_minor": 2
}
