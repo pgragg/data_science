{
 "cells": [
  {
   "cell_type": "code",
   "execution_count": 6,
   "metadata": {},
   "outputs": [
    {
     "data": {
      "image/png": "[encoded data removed]",
      "text/plain": [
       "<matplotlib.figure.Figure at 0x1056fc898>"
      ]
     },
     "metadata": {},
     "output_type": "display_data"
    }
   ],
   "source": [
    "import matplotlib.pyplot as plt \n",
    "versicolor_petal_length = [1,2,3,4,5]\n",
    "\n",
    "# Plot histogram of versicolor petal lengths\n",
    "_ = plt.hist(versicolor_petal_length)\n",
    "\n",
    "# Label axes\n",
    "plt.xlabel('petal length (cm)')\n",
    "plt.ylabel('count')\n",
    "\n",
    "# Show histogram\n",
    "\n",
    "plt.show()"
   ]
  },
  {
   "cell_type": "code",
   "execution_count": 7,
   "metadata": {},
   "outputs": [
    {
     "ename": "NameError",
     "evalue": "name 'sns' is not defined",
     "output_type": "error",
     "traceback": [
      "\u001b[0;31m---------------------------------------------------------------------------\u001b[0m",
      "\u001b[0;31mNameError\u001b[0m                                 Traceback (most recent call last)",
      "\u001b[0;32m<ipython-input-7-0a8ad1ce16b1>\u001b[0m in \u001b[0;36m<module>\u001b[0;34m()\u001b[0m\n\u001b[1;32m      1\u001b[0m \u001b[0;31m# Swarm\u001b[0m\u001b[0;34m\u001b[0m\u001b[0;34m\u001b[0m\u001b[0m\n\u001b[1;32m      2\u001b[0m \u001b[0;34m\u001b[0m\u001b[0m\n\u001b[0;32m----> 3\u001b[0;31m \u001b[0m_\u001b[0m \u001b[0;34m=\u001b[0m \u001b[0msns\u001b[0m\u001b[0;34m.\u001b[0m\u001b[0mswarmplot\u001b[0m\u001b[0;34m(\u001b[0m\u001b[0mx\u001b[0m\u001b[0;34m=\u001b[0m\u001b[0;34m'species'\u001b[0m\u001b[0;34m,\u001b[0m \u001b[0my\u001b[0m\u001b[0;34m=\u001b[0m\u001b[0;34m'petal length (cm)'\u001b[0m\u001b[0;34m,\u001b[0m \u001b[0mdata\u001b[0m\u001b[0;34m=\u001b[0m\u001b[0mdf\u001b[0m\u001b[0;34m)\u001b[0m\u001b[0;34m\u001b[0m\u001b[0m\n\u001b[0m\u001b[1;32m      4\u001b[0m \u001b[0m_\u001b[0m \u001b[0;34m=\u001b[0m \u001b[0mplt\u001b[0m\u001b[0;34m.\u001b[0m\u001b[0mxlabel\u001b[0m\u001b[0;34m(\u001b[0m\u001b[0;34m'state'\u001b[0m\u001b[0;34m)\u001b[0m\u001b[0;34m\u001b[0m\u001b[0m\n\u001b[1;32m      5\u001b[0m \u001b[0m_\u001b[0m \u001b[0;34m=\u001b[0m \u001b[0mplt\u001b[0m\u001b[0;34m.\u001b[0m\u001b[0mylabel\u001b[0m\u001b[0;34m(\u001b[0m\u001b[0;34m'percent of vote for Obama'\u001b[0m\u001b[0;34m)\u001b[0m\u001b[0;34m\u001b[0m\u001b[0m\n",
      "\u001b[0;31mNameError\u001b[0m: name 'sns' is not defined"
     ]
    }
   ],
   "source": [
    "# Swarm \n",
    "\n",
    "_ = sns.swarmplot(x='species', y='petal length (cm)', data=df)\n",
    "_ = plt.xlabel('state')\n",
    "_ = plt.ylabel('percent of vote for Obama')\n",
    "plt.show()\n"
   ]
  },
  {
   "cell_type": "code",
   "execution_count": null,
   "metadata": {
    "collapsed": true
   },
   "outputs": [],
   "source": [
    "\n"
   ]
  },
  {
   "cell_type": "code",
   "execution_count": null,
   "metadata": {
    "collapsed": true
   },
   "outputs": [],
   "source": [
    "import matplotlib.pyplot as plt \n",
    "# Compute ECDF for versicolor data: x_vers, y_vers\n",
    "x_vers, y_vers = ecdf(versicolor_petal_length)\n",
    "\n",
    "# Generate plot\n",
    "_ = plt.plot(x_vers, y_vers, marker='.', linestyle='none')\n",
    "\n",
    "# Make the margins nice\n",
    "plt.margins(0.02)\n",
    "\n",
    "# Label the axes\n",
    "_ = plt.xlabel('petal length (cm)')\n",
    "_ = plt.ylabel('ECDF')\n",
    "\n",
    "# Display the plot\n",
    "plt.show()\n"
   ]
  },
  {
   "cell_type": "code",
   "execution_count": null,
   "metadata": {
    "collapsed": true
   },
   "outputs": [],
   "source": [
    "# Compute ECDF for versicolor data: x_vers, y_vers\n",
    "x_set, y_set = ecdf(setosa_petal_length)\n",
    "x_vers, y_vers = ecdf(versicolor_petal_length)\n",
    "x_virg, y_virg = ecdf(virginica_petal_length)\n",
    "\n",
    "# Generate plot\n",
    "_ = plt.plot(x_vers, y_vers, marker='.', linestyle='none')\n",
    "_ = plt.plot(x_virg, y_virg, marker='.', linestyle='none')\n",
    "_ = plt.plot(x_set, y_set, marker='.', linestyle='none')\n",
    "\n",
    "# Make the margins nice\n",
    "plt.margins(0.02)\n",
    "\n",
    "# Label the axes\n",
    "_ = plt.xlabel('petal length (cm)')\n",
    "_ = plt.ylabel('ECDF')\n",
    "plt.legend(('setosa', 'versicolor', 'virginica'), loc='lower right')\n",
    "# Display the plot\n",
    "plt.show()\n",
    "\n",
    "\n",
    "# Make nice margins\n",
    "\n"
   ]
  },
  {
   "cell_type": "code",
   "execution_count": null,
   "metadata": {
    "collapsed": true
   },
   "outputs": [],
   "source": [
    "np.percentile([1,2,3,4,5,6,7,8,9,10], [99])"
   ]
  },
  {
   "cell_type": "code",
   "execution_count": 8,
   "metadata": {},
   "outputs": [
    {
     "data": {
      "image/png": "[encoded data removed]",
      "text/plain": [
       "<matplotlib.figure.Figure at 0x1057594e0>"
      ]
     },
     "metadata": {},
     "output_type": "display_data"
    }
   ],
   "source": [
    "import numpy as np \n",
    "#ECDF \n",
    "def ecdf(data):\n",
    "    \"\"\"Compute ECDF for a one-dimensional array of measurements.\"\"\"\n",
    "\n",
    "    # Number of data points: n\n",
    "    n = len(data)\n",
    "\n",
    "    # x-data for the ECDF: x\n",
    "    x = np.sort(data)\n",
    "\n",
    "    # y-data for the ECDF: y\n",
    "    y = np.arange(1, n + 1 ) / n\n",
    "\n",
    "    return x, y\n",
    "\n",
    "# Take 10,000 samples out of the binomial distribution: n_defaults\n",
    "n_defaults = np.random.binomial(n=100, p=0.05, size=10000)\n",
    "\n",
    "# Compute CDF: x, y\n",
    "x, y = ecdf(n_defaults)\n",
    "\n",
    "# Plot the CDF with axis labels\n",
    "_ = plt.plot(x, y, marker='.', linestyle='none')\n",
    "_ = plt.xlabel('number of defaults out of 100 loans')\n",
    "_ = plt.ylabel('CDF')\n",
    "\n",
    "# Show the plot\n",
    "plt.show()\n"
   ]
  },
  {
   "cell_type": "code",
   "execution_count": 2,
   "metadata": {},
   "outputs": [
    {
     "data": {
      "image/png": "[encoded data removed]",
      "text/plain": [
       "<matplotlib.figure.Figure at 0x104a263c8>"
      ]
     },
     "metadata": {},
     "output_type": "display_data"
    }
   ],
   "source": [
    "import numpy as np\n",
    "import matplotlib.pyplot as plt \n",
    "n_defaults = np.random.binomial(n=100, p=0.05, size=10000)\n",
    "# As opposed to poisson, which takes the average: np.random.poisson(6, size=10000)\n",
    "# Compute bin edges: bins\n",
    "bins = np.arange(0, max(n_defaults) + 1.5) - 0.5\n",
    "# Generate histogram\n",
    "plt.hist(n_defaults, bins=bins)\n",
    "\n",
    "# Set margins\n",
    "plt.margins(0.02)\n",
    "\n",
    "# Label axes\n",
    "_ = plt.xlabel('number of defaults out of 100 loans')\n",
    "_ = plt.ylabel('PMF')\n",
    "\n",
    "# Show the plot\n",
    "plt.show()\n"
   ]
  },
  {
   "cell_type": "code",
   "execution_count": 13,
   "metadata": {},
   "outputs": [
    {
     "data": {
      "text/plain": [
       "array([103, 118])"
      ]
     },
     "execution_count": 13,
     "metadata": {},
     "output_type": "execute_result"
    }
   ],
   "source": [
    "np.random.binomial(n=10000, p=0.01, size=2)"
   ]
  },
  {
   "cell_type": "code",
   "execution_count": 6,
   "metadata": {},
   "outputs": [
    {
     "data": {
      "image/png": "[encoded data removed]",
      "text/plain": [
       "<matplotlib.figure.Figure at 0x1037920b8>"
      ]
     },
     "metadata": {},
     "output_type": "display_data"
    }
   ],
   "source": [
    "# Plotting theoretical ECDF against ECDF\n",
    "\n",
    "import numpy as np \n",
    "#ECDF \n",
    "def ecdf(data):\n",
    "    \"\"\"Compute ECDF for a one-dimensional array of measurements.\"\"\"\n",
    "\n",
    "    # Number of data points: n\n",
    "    n = len(data)\n",
    "\n",
    "    # x-data for the ECDF: x\n",
    "    x = np.sort(data)\n",
    "\n",
    "    # y-data for the ECDF: y\n",
    "    y = np.arange(1, n + 1 ) / n\n",
    "\n",
    "    return x, y\n",
    "belmont_no_outliers = [148.50999999999999,\n",
    " 146.65000000000001,\n",
    " 148.52000000000001,\n",
    " 150.69999999999999,\n",
    " 150.42000000000002,\n",
    " 150.88,\n",
    " 151.56999999999999,\n",
    " 147.53999999999999,\n",
    " 149.65000000000001,\n",
    " 148.74000000000001,\n",
    " 147.86000000000001,\n",
    " 148.75,\n",
    " 147.5,\n",
    " 148.25999999999999,\n",
    " 149.71000000000001,\n",
    " 146.56,\n",
    " 151.19,\n",
    " 147.88,\n",
    " 149.16,\n",
    " 148.81999999999999,\n",
    " 148.96000000000001,\n",
    " 152.02000000000001,\n",
    " 146.81999999999999,\n",
    " 149.97,\n",
    " 146.13,\n",
    " 148.09999999999999,\n",
    " 147.19999999999999,\n",
    " 146.0,\n",
    " 146.40000000000001,\n",
    " 148.19999999999999,\n",
    " 149.80000000000001,\n",
    " 147.0,\n",
    " 147.19999999999999,\n",
    " 147.80000000000001,\n",
    " 148.19999999999999,\n",
    " 149.0,\n",
    " 149.80000000000001,\n",
    " 148.59999999999999,\n",
    " 146.80000000000001,\n",
    " 149.59999999999999,\n",
    " 149.0,\n",
    " 148.19999999999999,\n",
    " 149.19999999999999,\n",
    " 148.0,\n",
    " 150.40000000000001,\n",
    " 148.80000000000001,\n",
    " 147.19999999999999,\n",
    " 148.80000000000001,\n",
    " 149.59999999999999,\n",
    " 148.40000000000001,\n",
    " 148.40000000000001,\n",
    " 150.19999999999999,\n",
    " 148.80000000000001,\n",
    " 149.19999999999999,\n",
    " 149.19999999999999,\n",
    " 148.40000000000001,\n",
    " 150.19999999999999,\n",
    " 146.59999999999999,\n",
    " 149.80000000000001,\n",
    " 149.0,\n",
    " 150.80000000000001,\n",
    " 148.59999999999999,\n",
    " 150.19999999999999,\n",
    " 149.0,\n",
    " 148.59999999999999,\n",
    " 150.19999999999999,\n",
    " 148.19999999999999,\n",
    " 149.40000000000001,\n",
    " 150.80000000000001,\n",
    " 150.19999999999999,\n",
    " 152.19999999999999,\n",
    " 148.19999999999999,\n",
    " 149.19999999999999,\n",
    " 151.0,\n",
    " 149.59999999999999,\n",
    " 149.59999999999999,\n",
    " 149.40000000000001,\n",
    " 148.59999999999999,\n",
    " 150.0,\n",
    " 150.59999999999999,\n",
    " 149.19999999999999,\n",
    " 152.59999999999999,\n",
    " 152.80000000000001,\n",
    " 149.59999999999999,\n",
    " 151.59999999999999,\n",
    " 152.80000000000001,\n",
    " 153.19999999999999,\n",
    " 152.40000000000001,\n",
    " 152.19999999999999]\n",
    "# Compute mean and standard deviation: mu, sigma\n",
    "mu = np.mean(belmont_no_outliers)\n",
    "sigma = np.std(belmont_no_outliers)\n",
    "\n",
    "# Sample out of a normal distribution with this mu and sigma: samples\n",
    "samples = np.random.normal(mu, sigma, size=10000)\n",
    "\n",
    "# Get the CDF of the samples and of the data\n",
    "x_theor,y_theor = ecdf(samples)\n",
    "x, y = ecdf(belmont_no_outliers)\n",
    "\n",
    "# Plot the CDFs and show the plot\n",
    "_ = plt.plot(x_theor, y_theor)\n",
    "_ = plt.plot(x, y, marker='.', linestyle='none')\n",
    "plt.margins(0.02)\n",
    "_ = plt.xlabel('Belmont winning time (sec.)')\n",
    "_ = plt.ylabel('CDF')\n",
    "plt.show()\n",
    "# The theoretical CDF and the ECDF of the data suggest that the winning Belmont times are Normally distributed. \n",
    "# This also suggests that in the last 100 years or so, there have not been major technological or training advances \n",
    "# that have significantly affected the speed at which horses can run this race."
   ]
  },
  {
   "cell_type": "code",
   "execution_count": 37,
   "metadata": {},
   "outputs": [
    {
     "name": "stdout",
     "output_type": "stream",
     "text": [
      "Counter({2: 4, 1: 4, 5: 1, 0: 1})\n"
     ]
    }
   ],
   "source": [
    "import numpy as np\n",
    "import matplotlib.pyplot as plt\n",
    "import collections\n",
    "\n",
    "size = 10\n",
    "mu = 2 \n",
    "\n",
    "a = np.random.poisson(mu, size=size)\n",
    "x,y = ecdf(a)\n",
    "bins = np.arange(0, max(x) + 1.5) - 0.5\n",
    "plt.hist(x, bins=bins)\n",
    "\n",
    "count = collections.Counter(a)\n",
    "print(count)\n",
    "# over = sum(a > 2)/size\n",
    "# eq = sum(a == 2)/size\n",
    "# less = sum(a < 2)/size\n",
    "# zero = sum(a == 0)/size\n",
    "\n",
    "# print(\"Chance of overrep: \" + str(over))\n",
    "# print(\"Chance of eq: \" + str(eq))\n",
    "# print(\"Chance of less: \" + str(less))\n",
    "# print(\"Chance of zero: \" + str(zero))\n",
    "\n",
    "\n",
    "\n",
    "# plt.show()\n"
   ]
  },
  {
   "cell_type": "code",
   "execution_count": null,
   "metadata": {},
   "outputs": [],
   "source": []
  },
  {
   "cell_type": "code",
   "execution_count": null,
   "metadata": {
    "collapsed": true
   },
   "outputs": [],
   "source": []
  }
 ],
 "metadata": {
  "kernelspec": {
   "display_name": "Python 3",
   "language": "python",
   "name": "python3"
  },
  "language_info": {
   "codemirror_mode": {
    "name": "ipython",
    "version": 3
   },
   "file_extension": ".py",
   "mimetype": "text/x-python",
   "name": "python",
   "nbconvert_exporter": "python",
   "pygments_lexer": "ipython3",
   "version": "3.6.2"
  }
 },
 "nbformat": 4,
 "nbformat_minor": 2
}
